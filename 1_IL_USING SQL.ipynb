{
 "cells": [
  {
   "cell_type": "code",
   "execution_count": 0,
   "metadata": {
    "application/vnd.databricks.v1+cell": {
     "cellMetadata": {
      "byteLimit": 2048000,
      "rowLimit": 10000
     },
     "inputWidgets": {},
     "nuid": "06a8012f-f6dd-446c-a6a3-a4658c532267",
     "showTitle": false,
     "tableResultSettingsMap": {},
     "title": ""
    }
   },
   "outputs": [],
   "source": [
    "%fs ls dbfs:/user/hive/warehouse/"
   ]
  },
  {
   "cell_type": "code",
   "execution_count": 0,
   "metadata": {
    "application/vnd.databricks.v1+cell": {
     "cellMetadata": {
      "byteLimit": 2048000,
      "rowLimit": 10000
     },
     "inputWidgets": {},
     "nuid": "d89a5a4e-ae66-405f-be91-073817004857",
     "showTitle": false,
     "tableResultSettingsMap": {},
     "title": ""
    }
   },
   "outputs": [],
   "source": [
    "from pyspark.sql import SparkSession\n",
    "from datetime import datetime, timedelta\n",
    "import random\n",
    "import pytz\n",
    "import time\n",
    "\n",
    "\n",
    "\n",
    "# Start Spark session\n",
    "spark = SparkSession.builder.appName(\"IoT_Data_Generator\").getOrCreate()\n",
    "\n",
    "# Delta path (or use table name)\n",
    "delta_path = \"dbfs:/user/hive/warehouse/iot_events\"\n",
    "\n",
    "# India timezone\n",
    "india_tz = pytz.timezone('Asia/Kolkata')\n",
    "\n",
    "# Number of days to generate (last 5 days including today)\n",
    "num_days = 5\n",
    "\n",
    "# Loop over days (oldest to newest)\n",
    "for day_offset in range(num_days-1, -1, -1):  # 4,3,2,1,0\n",
    "    # Calculate the date for this batch\n",
    "    current_day = datetime.now(pytz.utc).astimezone(india_tz) - timedelta(days=day_offset)\n",
    "    \n",
    "    # Generate multiple batches per day if needed\n",
    "    for i in range(10):  # 10 batches per day\n",
    "        # Generate a timestamp within the day\n",
    "        event_time = current_day.replace(\n",
    "            hour=random.randint(0, 23),\n",
    "            minute=random.randint(0, 59),\n",
    "            second=random.randint(0, 59)\n",
    "        )\n",
    "        \n",
    "        # Generate a single-row batch\n",
    "        data = [\n",
    "            (\n",
    "                i + day_offset*10,  # unique event_id\n",
    "                f\"device_{random.randint(1,5)}\",\n",
    "                round(random.uniform(20.0, 35.0), 2),\n",
    "                round(random.uniform(30.0, 70.0), 2),\n",
    "                event_time\n",
    "            )\n",
    "        ]\n",
    "        \n",
    "        # Create DataFrame\n",
    "        df = spark.createDataFrame(\n",
    "            data,\n",
    "            [\"event_id\", \"device_id\", \"temperature\", \"humidity\", \"event_time\"]\n",
    "        )\n",
    "        \n",
    "        # inside the inner loop\n",
    "        df.write.format(\"delta\").mode(\"append\").save(delta_path)\n",
    "\n",
    "        print(f\"Inserted batch {i+1} for {event_time.strftime('%Y-%m-%d')} at {event_time.strftime('%H:%M:%S')}\")\n",
    "        time.sleep(0)  # half a second delay between batches\n",
    "\n"
   ]
  },
  {
   "cell_type": "code",
   "execution_count": 0,
   "metadata": {
    "application/vnd.databricks.v1+cell": {
     "cellMetadata": {
      "byteLimit": 2048000,
      "implicitDf": true,
      "rowLimit": 10000
     },
     "inputWidgets": {},
     "nuid": "495fcacc-b848-44e1-9a73-7c8f8825b7ec",
     "showTitle": false,
     "tableResultSettingsMap": {},
     "title": ""
    }
   },
   "outputs": [],
   "source": [
    "%fs ls dbfs:/user/hive/warehouse/"
   ]
  },
  {
   "cell_type": "code",
   "execution_count": 0,
   "metadata": {
    "application/vnd.databricks.v1+cell": {
     "cellMetadata": {
      "byteLimit": 2048000,
      "implicitDf": true,
      "rowLimit": 10000
     },
     "inputWidgets": {},
     "nuid": "e656eecd-8c70-4838-a55c-5fa8e0a64246",
     "showTitle": false,
     "tableResultSettingsMap": {},
     "title": ""
    }
   },
   "outputs": [],
   "source": [
    "%sql\n",
    "SELECT * FROM delta.`dbfs:/user/hive/warehouse/iot_events` ORDER BY event_time DESC;\n"
   ]
  },
  {
   "cell_type": "code",
   "execution_count": 0,
   "metadata": {
    "application/vnd.databricks.v1+cell": {
     "cellMetadata": {},
     "inputWidgets": {},
     "nuid": "0ea2a69f-85ef-4b9b-8af9-08349e4906c9",
     "showTitle": false,
     "tableResultSettingsMap": {},
     "title": ""
    }
   },
   "outputs": [],
   "source": [
    "START FROM HERE"
   ]
  },
  {
   "cell_type": "markdown",
   "metadata": {
    "application/vnd.databricks.v1+cell": {
     "cellMetadata": {},
     "inputWidgets": {},
     "nuid": "d83b52cc-1077-4221-889e-0bd85371bc48",
     "showTitle": false,
     "tableResultSettingsMap": {},
     "title": ""
    }
   },
   "source": [
    "### creating main table which have all data"
   ]
  },
  {
   "cell_type": "code",
   "execution_count": 0,
   "metadata": {
    "application/vnd.databricks.v1+cell": {
     "cellMetadata": {
      "byteLimit": 2048000,
      "implicitDf": true,
      "rowLimit": 10000
     },
     "inputWidgets": {},
     "nuid": "0ad1d81e-88f0-4069-b4d1-17d9cd0173a4",
     "showTitle": false,
     "tableResultSettingsMap": {},
     "title": ""
    }
   },
   "outputs": [],
   "source": [
    "%sql\n",
    "CREATE SCHEMA IF NOT EXISTS hive_metastore.iot;\n",
    "\n",
    "CREATE TABLE IF NOT EXISTS hive_metastore.iot.live_data\n",
    "USING DELTA\n",
    "LOCATION 'dbfs:/user/hive/warehouse/MY_iot_events/'\n",
    "AS SELECT * FROM delta.`dbfs:/user/hive/warehouse/iot_events/`"
   ]
  },
  {
   "cell_type": "code",
   "execution_count": 0,
   "metadata": {
    "application/vnd.databricks.v1+cell": {
     "cellMetadata": {
      "byteLimit": 2048000,
      "implicitDf": true,
      "rowLimit": 10000
     },
     "collapsed": true,
     "inputWidgets": {},
     "nuid": "5456d819-b61c-4c95-9098-ef366ac7d98d",
     "showTitle": false,
     "tableResultSettingsMap": {},
     "title": ""
    }
   },
   "outputs": [],
   "source": [
    "# %sql\n",
    "# INSERT INTO hive_metastore.iot.live_data VALUES\n",
    "# (31, 'device_4', 33.87, 33.87, '2025-08-18T06:49:20.415+00:00'),\n",
    "# (32, 'device_4', 33.87, 33.87, '2025-08-18T06:50:20.415+00:00'),\n",
    "# (33, 'device_4', 33.87, 33.87, '2025-08-18T06:51:20.415+00:00'),\n",
    "# (00, 'device_4', 33.87, 33.87, '2025-08-18T06:42:20.415+00:00');\n"
   ]
  },
  {
   "cell_type": "code",
   "execution_count": 0,
   "metadata": {
    "application/vnd.databricks.v1+cell": {
     "cellMetadata": {
      "byteLimit": 2048000,
      "implicitDf": true,
      "rowLimit": 10000
     },
     "inputWidgets": {},
     "nuid": "c5b42345-5975-47a5-9624-da0ae762a99c",
     "showTitle": false,
     "tableResultSettingsMap": {},
     "title": ""
    }
   },
   "outputs": [],
   "source": [
    "%sql\n",
    "SELECT * FROM hive_metastore.iot.live_data ORDER BY event_time DESC ;"
   ]
  },
  {
   "cell_type": "markdown",
   "metadata": {
    "application/vnd.databricks.v1+cell": {
     "cellMetadata": {},
     "inputWidgets": {},
     "nuid": "c42124b3-823a-4eda-a119-f31344cbc599",
     "showTitle": false,
     "tableResultSettingsMap": {},
     "title": ""
    }
   },
   "source": [
    "## advoc date"
   ]
  },
  {
   "cell_type": "code",
   "execution_count": 0,
   "metadata": {
    "application/vnd.databricks.v1+cell": {
     "cellMetadata": {
      "byteLimit": 2048000,
      "rowLimit": 10000
     },
     "inputWidgets": {},
     "nuid": "f02c6ba7-40b9-48df-9cb3-1091a8989dd5",
     "showTitle": false,
     "tableResultSettingsMap": {},
     "title": ""
    }
   },
   "outputs": [],
   "source": [
    "from datetime import datetime, timedelta\n",
    "\n",
    "# Default date: yesterday\n",
    "default_date = (datetime.now() - timedelta(days=1)).date()\n",
    "\n",
    "# Create widget\n",
    "dbutils.widgets.text(\"input_date\", str(default_date), \"Enter date\")\n",
    "\n",
    "# Get widget value\n",
    "selected_date = dbutils.widgets.get(\"input_date\")\n",
    "\n",
    "# If widget is empty, use default\n",
    "if selected_date == \"\":\n",
    "    selected_date = str(default_date)\n",
    "\n",
    "print(\"Using date:\", selected_date)"
   ]
  },
  {
   "cell_type": "markdown",
   "metadata": {
    "application/vnd.databricks.v1+cell": {
     "cellMetadata": {},
     "inputWidgets": {},
     "nuid": "c6b54b60-a2b0-4854-89a7-dbe0544c112e",
     "showTitle": false,
     "tableResultSettingsMap": {},
     "title": ""
    }
   },
   "source": [
    "### creating table which have only new data (by default yesterday data)"
   ]
  },
  {
   "cell_type": "code",
   "execution_count": 0,
   "metadata": {
    "application/vnd.databricks.v1+cell": {
     "cellMetadata": {
      "byteLimit": 2048000,
      "implicitDf": true,
      "rowLimit": 10000
     },
     "inputWidgets": {},
     "nuid": "ad6ecaa0-6df0-434e-a8fa-c432609a79c2",
     "showTitle": false,
     "tableResultSettingsMap": {},
     "title": ""
    }
   },
   "outputs": [],
   "source": [
    "\n",
    "spark.sql(f\"\"\"\n",
    "CREATE OR REPLACE TABLE hive_metastore.iot.incremtal_d AS\n",
    "SELECT *\n",
    "FROM hive_metastore.iot.live_data\n",
    "WHERE to_date(event_time) = DATE('{selected_date}')\n",
    "\"\"\")"
   ]
  },
  {
   "cell_type": "code",
   "execution_count": 0,
   "metadata": {
    "application/vnd.databricks.v1+cell": {
     "cellMetadata": {
      "byteLimit": 2048000,
      "implicitDf": true,
      "rowLimit": 10000
     },
     "inputWidgets": {},
     "nuid": "b50e2389-c37c-45e4-9c18-917803da0363",
     "showTitle": false,
     "tableResultSettingsMap": {},
     "title": ""
    }
   },
   "outputs": [],
   "source": [
    "%sql\n",
    "SELECT * FROM hive_metastore.iot.incremtal_d ;"
   ]
  },
  {
   "cell_type": "markdown",
   "metadata": {
    "application/vnd.databricks.v1+cell": {
     "cellMetadata": {},
     "inputWidgets": {},
     "nuid": "0d45e5e5-53f2-404f-b76e-e85f8ca97228",
     "showTitle": false,
     "tableResultSettingsMap": {},
     "title": ""
    }
   },
   "source": [
    "CREATING VIEW FOR ONLY INCREMENTAL DATA WHICH TRNSFORMATION OR QUERY"
   ]
  },
  {
   "cell_type": "code",
   "execution_count": 0,
   "metadata": {
    "application/vnd.databricks.v1+cell": {
     "cellMetadata": {
      "byteLimit": 2048000,
      "implicitDf": true,
      "rowLimit": 10000
     },
     "inputWidgets": {},
     "nuid": "19d1a0db-0d5d-4af7-b534-b5f66acc9d18",
     "showTitle": false,
     "tableResultSettingsMap": {},
     "title": ""
    }
   },
   "outputs": [],
   "source": [
    "%sql\n",
    "CREATE SCHEMA IF NOT EXISTS silver_layer;\n",
    "\n",
    "CREATE OR REPLACE VIEW hive_metastore.silver_layer.incremental_view\n",
    "AS SELECT * FROM  hive_metastore.iot.incremtal_d \n",
    "WHERE event_time IS NOT NULL;"
   ]
  },
  {
   "cell_type": "code",
   "execution_count": 0,
   "metadata": {
    "application/vnd.databricks.v1+cell": {
     "cellMetadata": {
      "byteLimit": 2048000,
      "implicitDf": true,
      "rowLimit": 10000
     },
     "inputWidgets": {},
     "nuid": "9fbc7e9d-b9f3-4a77-8c56-613ee4d68589",
     "showTitle": false,
     "tableResultSettingsMap": {},
     "title": ""
    }
   },
   "outputs": [],
   "source": [
    "%sql\n",
    "SELECT * FROM hive_metastore.silver_layer.incremental_view;"
   ]
  },
  {
   "cell_type": "markdown",
   "metadata": {
    "application/vnd.databricks.v1+cell": {
     "cellMetadata": {},
     "inputWidgets": {},
     "nuid": "acae6aa2-9148-4732-ab9c-9db4a0af8ee1",
     "showTitle": false,
     "tableResultSettingsMap": {},
     "title": ""
    }
   },
   "source": [
    "### CREATING FINAL INCREMENTAL LOAD HANDLING TABLE "
   ]
  },
  {
   "cell_type": "code",
   "execution_count": 0,
   "metadata": {
    "application/vnd.databricks.v1+cell": {
     "cellMetadata": {
      "byteLimit": 2048000,
      "implicitDf": true,
      "rowLimit": 10000
     },
     "inputWidgets": {},
     "nuid": "90f58003-f065-4741-918a-2e7391313dc3",
     "showTitle": false,
     "tableResultSettingsMap": {},
     "title": ""
    }
   },
   "outputs": [],
   "source": [
    "%sql\n",
    "CREATE TABLE IF NOT EXISTS hive_metastore.silver_layer.my_data\n",
    "USING DELTA \n",
    "LOCATION 'dbfs:/user/hive/warehouse/final_iot_events1/'\n",
    "AS SELECT * FROM hive_metastore.silver_layer.incremental_view\n",
    "WHERE 1=0;"
   ]
  },
  {
   "cell_type": "code",
   "execution_count": 0,
   "metadata": {
    "application/vnd.databricks.v1+cell": {
     "cellMetadata": {
      "byteLimit": 2048000,
      "implicitDf": true,
      "rowLimit": 10000
     },
     "inputWidgets": {},
     "nuid": "66482a0f-f537-4f5c-b656-ddcea4cbfb10",
     "showTitle": false,
     "tableResultSettingsMap": {},
     "title": ""
    }
   },
   "outputs": [],
   "source": [
    "%sql\n",
    "SELECT * FROM hive_metastore.silver_layer.my_data;"
   ]
  },
  {
   "cell_type": "markdown",
   "metadata": {
    "application/vnd.databricks.v1+cell": {
     "cellMetadata": {},
     "inputWidgets": {},
     "nuid": "79febd36-f84d-4173-8eb7-b15bb7c4d089",
     "showTitle": false,
     "tableResultSettingsMap": {},
     "title": ""
    }
   },
   "source": [
    "HANDLING INCREMENTAL LOAD"
   ]
  },
  {
   "cell_type": "code",
   "execution_count": 0,
   "metadata": {
    "application/vnd.databricks.v1+cell": {
     "cellMetadata": {
      "byteLimit": 2048000,
      "implicitDf": true,
      "rowLimit": 10000
     },
     "inputWidgets": {},
     "nuid": "39635c45-537e-4761-8d40-c3be9d76f3ce",
     "showTitle": false,
     "tableResultSettingsMap": {},
     "title": ""
    }
   },
   "outputs": [],
   "source": [
    "%sql\n",
    "INSERT INTO hive_metastore.silver_layer.my_data\n",
    "SELECT *\n",
    "FROM hive_metastore.silver_layer.incremental_view src\n",
    "WHERE src.event_id NOT IN (\n",
    "  SELECT event_id FROM hive_metastore.silver_layer.my_data\n",
    ");\n"
   ]
  },
  {
   "cell_type": "code",
   "execution_count": 0,
   "metadata": {
    "application/vnd.databricks.v1+cell": {
     "cellMetadata": {
      "byteLimit": 2048000,
      "implicitDf": true,
      "rowLimit": 10000
     },
     "collapsed": true,
     "inputWidgets": {},
     "nuid": "968265f4-fc6a-40c4-b055-0f750d2ec871",
     "showTitle": false,
     "tableResultSettingsMap": {},
     "title": ""
    }
   },
   "outputs": [],
   "source": [
    "# %sql\n",
    "# MERGE INTO hive_metastore.silver_layer.my_data AS trg\n",
    "# USING hive_metastore.silver_layer.incremental_view AS src\n",
    "# ON trg.event_id = src.event_id\n",
    "# WHEN MATCHED THEN UPDATE SET*\n",
    "# WHEN NOT MATCHED THEN INSERT *;\n"
   ]
  },
  {
   "cell_type": "code",
   "execution_count": 0,
   "metadata": {
    "application/vnd.databricks.v1+cell": {
     "cellMetadata": {
      "byteLimit": 2048000,
      "implicitDf": true,
      "rowLimit": 10000
     },
     "inputWidgets": {},
     "nuid": "9d2da5fa-9108-4e06-80d1-ef1b6cd506d3",
     "showTitle": false,
     "tableResultSettingsMap": {},
     "title": ""
    }
   },
   "outputs": [],
   "source": [
    "%sql\n",
    "SELECT * FROM hive_metastore.silver_layer.my_data order by event_time DESC;"
   ]
  }
 ],
 "metadata": {
  "application/vnd.databricks.v1+notebook": {
   "computePreferences": null,
   "dashboards": [],
   "environmentMetadata": {
    "base_environment": "",
    "environment_version": "1"
   },
   "inputWidgetPreferences": null,
   "language": "python",
   "notebookMetadata": {
    "mostRecentlyExecutedCommandWithImplicitDF": {
     "commandId": 4075620622480759,
     "dataframes": [
      "_sqldf"
     ]
    },
    "pythonIndentUnit": 4
   },
   "notebookName": "1_IL_USING SQL",
   "widgets": {
    "input_date": {
     "currentValue": "",
     "nuid": "b3e7236d-20ef-4d58-9a53-1dbe6898c92f",
     "typedWidgetInfo": {
      "autoCreated": false,
      "defaultValue": "2025-08-17",
      "label": "Enter date",
      "name": "input_date",
      "options": {
       "widgetDisplayType": "Text",
       "validationRegex": null
      },
      "parameterDataType": "String"
     },
     "widgetInfo": {
      "widgetType": "text",
      "defaultValue": "2025-08-17",
      "label": "Enter date",
      "name": "input_date",
      "options": {
       "widgetType": "text",
       "autoCreated": null,
       "validationRegex": null
      }
     }
    }
   }
  },
  "language_info": {
   "name": "python"
  }
 },
 "nbformat": 4,
 "nbformat_minor": 0
}
